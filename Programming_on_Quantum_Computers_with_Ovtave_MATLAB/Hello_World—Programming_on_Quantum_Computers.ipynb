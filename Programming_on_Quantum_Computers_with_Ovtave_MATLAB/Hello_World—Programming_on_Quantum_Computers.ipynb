{
 "cells": [
  {
   "cell_type": "markdown",
   "id": "a9f2f996",
   "metadata": {},
   "source": [
    "# Hello World — Programming on Quantum Computers"
   ]
  },
  {
   "cell_type": "code",
   "execution_count": 1,
   "id": "c2c29fba",
   "metadata": {},
   "outputs": [],
   "source": [
    "from qiskit import *"
   ]
  },
  {
   "cell_type": "code",
   "execution_count": null,
   "id": "e7479e0c",
   "metadata": {},
   "outputs": [],
   "source": []
  }
 ],
 "metadata": {
  "kernelspec": {
   "display_name": "Python 3 (ipykernel)",
   "language": "python",
   "name": "python3"
  },
  "language_info": {
   "codemirror_mode": {
    "name": "ipython",
    "version": 3
   },
   "file_extension": ".py",
   "mimetype": "text/x-python",
   "name": "python",
   "nbconvert_exporter": "python",
   "pygments_lexer": "ipython3",
   "version": "3.9.7"
  }
 },
 "nbformat": 4,
 "nbformat_minor": 5
}
